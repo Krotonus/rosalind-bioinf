{
 "cells": [
  {
   "cell_type": "markdown",
   "metadata": {},
   "source": [
    "# 1. Counting DNA Nucleotides "
   ]
  },
  {
   "cell_type": "code",
   "execution_count": 4,
   "metadata": {},
   "outputs": [],
   "source": [
    "data = '''AGCTTTTCATTCTGACTGCAACGGGCAATATGTCTCTGTGTGGATTAAAAAAAGAGTGTCTGATAGCAGC'''"
   ]
  },
  {
   "cell_type": "code",
   "execution_count": 6,
   "metadata": {},
   "outputs": [],
   "source": [
    "data = open('./data/rosalind_dna.txt').read()"
   ]
  },
  {
   "cell_type": "code",
   "execution_count": 2,
   "metadata": {},
   "outputs": [],
   "source": [
    "def count_bases(dna):\n",
    "    a = dna.count('A')\n",
    "    c = dna.count('C')\n",
    "    g = dna.count('G')\n",
    "    t = dna.count('T')\n",
    "    print('{} {} {} {}'.format(a, c, g, t))"
   ]
  },
  {
   "cell_type": "code",
   "execution_count": 7,
   "metadata": {},
   "outputs": [
    {
     "name": "stdout",
     "output_type": "stream",
     "text": [
      "227 230 265 211\n"
     ]
    }
   ],
   "source": [
    "count_bases(data)"
   ]
  },
  {
   "cell_type": "markdown",
   "metadata": {},
   "source": [
    "# 2. Transcribing DNA into RNA"
   ]
  },
  {
   "cell_type": "code",
   "execution_count": 8,
   "metadata": {},
   "outputs": [],
   "source": [
    "data = '''GATGGAACTTGACTACGTAAATT'''"
   ]
  },
  {
   "cell_type": "code",
   "execution_count": 11,
   "metadata": {},
   "outputs": [],
   "source": [
    "data = open('./data/rosalind_rna.txt').read()"
   ]
  },
  {
   "cell_type": "code",
   "execution_count": 9,
   "metadata": {},
   "outputs": [],
   "source": [
    "def rna_translation(dna):\n",
    "    print('{}'.format(dna.replace('T', 'U')))"
   ]
  },
  {
   "cell_type": "code",
   "execution_count": 12,
   "metadata": {},
   "outputs": [
    {
     "name": "stdout",
     "output_type": "stream",
     "text": [
      "GAGCGCCUAGAUGCAACACAAAUUAUCUACAGCGAAUUUGUACUAGGGCCAACCUCUAAGGCACUUUAGUGUAUUCAUCGGGUUAUCUCUGGAUACACCGAUAAGAUCAACAGGAACUUCGAUUUGGUCUCGAAAAUGCGGAUUUAGCAACUAGGUCACGCGUGUCCUCUCAUAUCUUGCCUCAACCGCCAAUAUAAAAUUAGGGGAAAACCGCAAUACACAGGCUAACGAUGUCUCGGGAUUAGGACGUUGAUGUUCUCUGUAUCGCUGCUGCAUAAGUCUUUAUUCUAUGACAUAAUCCAGAGUGGGAUACGAUAAAGACGGGUGGGUCUCAACUCUUACAGCUGAGGGAAAGGACGUCGGCUCAAACUAUUAGAGUCGCGUACUCAUGUUUCCUACAGGCCUGUCUCACGCGAUAAGUACGUCUCUGUGUACGUCCAUCUACGAUAUACUCUGCGGAUCGCGCAUUUAUAGGAUUACGCAUUAGAAAGACCUAGAUAUAUACAAACCCUUACUGAAGACGCUUCAUGACACCCUUAUUUCCAACUUAGCGACUGCUAAUAGGAAGGUGACAUUUAUACAAGAGAACGCCGUACUGACGUCCGUAUAUUGGGUUCGGAAGGUCAGUCUAAUUUGCACAACCCUAUAGCGAGUGAGAGCAGCUCUGACGCGGAGUCAAAUCCUUUCUAAUCAGUAUUUAUGCACGCUUUGCGAGACAUUAACCCCUCCUCAUUAGACGGAGCCGGUCUUUUAUCUCCGCAUACACGGUCUUGUGCACCCCAUUGCGACACUGUUUCAUAGCGGAGUGCCGUAGGAGAAAGCAGUUGUUGAGUUAGGUUGUUCUAUCUAGAAUAACCAUACUACCACGCCCAUCGCAUGAAUUGGACUCAAGUAGCUUUAUUACGGUGUCCCUCCUAACACG\n",
      "\n"
     ]
    }
   ],
   "source": [
    "rna_translation(data)"
   ]
  },
  {
   "cell_type": "markdown",
   "metadata": {},
   "source": [
    "# 3. Complementing a Strand of DNA"
   ]
  },
  {
   "cell_type": "code",
   "execution_count": 13,
   "metadata": {},
   "outputs": [],
   "source": [
    "data = '''AAAACCCGGT'''"
   ]
  },
  {
   "cell_type": "code",
   "execution_count": 31,
   "metadata": {},
   "outputs": [],
   "source": [
    "data = open('./data/rosalind_revc.txt').read()"
   ]
  },
  {
   "cell_type": "code",
   "execution_count": 27,
   "metadata": {},
   "outputs": [],
   "source": [
    "def complement_dna(dna):\n",
    "    translation_table = str.maketrans('ACGT', 'TGCA')\n",
    "    print(dna[::-1].translate(translation_table))"
   ]
  },
  {
   "cell_type": "code",
   "execution_count": 32,
   "metadata": {},
   "outputs": [
    {
     "name": "stdout",
     "output_type": "stream",
     "text": [
      "\n",
      "GCCCTTTGTCCGAACTTGTCGATGAAAACACACACACCGCCAAAGTAGATGACTAAGAATTGTATGGGTCATCTCAAGCCACTGAAAGGTTGAAGACTGGAAAGTCACCTGTACTGTCATTTGCTTACGCCAGGTGCTAATAGTGCACCCGAGGATGGCATCAGCTCTAGCAAGGATAGTTGGCTCTTTTTCGTGGTAAGCGTTCGGAATCGGGGTTATCAAGGTGAGGTTTTGGCAATAGTCTTCCTGTTTGTCGGGATAAACTATACTGCAAAGCCATGATCCATAATCTCTATGTTAGAAGTTTGATCGGCTCACTGTTGTTATTGTACGCAAGGATCGCCTTTGAACAAATTCGCCTGATCACGGCGCGCATTACGAAGTTGCGTCGTAACAAAGGTGATCCGGTCAGGGAGGTGATTGGTAAGCTTCCTGCCCTCATGAGGCCACTATTTCTACTACTGCAAAACTGCATACCTCGAAAAAGCAGACATAGAGGTATGTTAGGCTACTACTGACTTCCCTTCTTCTCGGTGTAGCAATTACTATTCTGGAAAACGGAATACCCATAGATCGCAAGCGGCAGCTCTTCCGGTATAGGGCAGTCACCCGATTTAGAACGAGAGCAGTATCAGTGAGGAACTGTAAGGCACTTGCGTGTTGAGGGCCACCTCCCTACTCCAGAATGTTAATTTATGAATTGCTGTCATACTCTTTCAGGGAAGCGAGAGGGATCTCGACGATCTCATAGAATCCGCGTCGTCACTCCAATAACAGGGACTACAGCCCCATCCGTATTCTTACTATGGGAGCAAAGTGCAGACCGTAATGCTTACGGAGTTGCATAATCCCTCCTTTTGTGTGCAGCCTCATACCTCGTGACAGTAGACGCTTTATCTGTCGTGGGAGGTCGTGTTCATGCTGTTATGTAAGTACATCGTCTGACAGCCGAACCAGTTTATCATCCGTCGGCATTAT\n"
     ]
    }
   ],
   "source": [
    "complement_dna(data)"
   ]
  },
  {
   "cell_type": "markdown",
   "metadata": {},
   "source": [
    "# 4. Mendel's First Law"
   ]
  },
  {
   "cell_type": "code",
   "execution_count": 2,
   "metadata": {},
   "outputs": [],
   "source": [
    "data = '''2 2 2'''"
   ]
  },
  {
   "cell_type": "code",
   "execution_count": 10,
   "metadata": {},
   "outputs": [],
   "source": [
    "data = open('./data/rosalind_iprb.txt').read()"
   ]
  },
  {
   "cell_type": "code",
   "execution_count": 11,
   "metadata": {},
   "outputs": [],
   "source": [
    "def parse_input(data):\n",
    "    return (int(digit) for digit in data.split(' '))"
   ]
  },
  {
   "cell_type": "code",
   "execution_count": 12,
   "metadata": {},
   "outputs": [],
   "source": [
    "k, m, n = parse_input(data)"
   ]
  },
  {
   "cell_type": "code",
   "execution_count": 7,
   "metadata": {},
   "outputs": [],
   "source": [
    "def calc_dominant(k, m, n):\n",
    "    total_population = k+m+n\n",
    "    homoRecessiveProb = (n / total_population) * ( (n - 1) / (total_population - 1) )\n",
    "    heteroDominantProb = (m / total_population) * ( (m-1) / (total_population - 1) ) * 0.25\n",
    "    heteroHomoProb = ( (m / total_population) * ( n / (total_population - 1) ) + (n / total_population) * ( m / (total_population - 1) ) ) * 0.5\n",
    "    return 1 - homoRecessiveProb - heteroDominantProb - heteroHomoProb"
   ]
  },
  {
   "cell_type": "code",
   "execution_count": 13,
   "metadata": {},
   "outputs": [
    {
     "data": {
      "text/plain": [
       "0.67949"
      ]
     },
     "execution_count": 13,
     "metadata": {},
     "output_type": "execute_result"
    }
   ],
   "source": [
    "round(calc_dominant(k, m, n), 5)"
   ]
  },
  {
   "cell_type": "markdown",
   "metadata": {},
   "source": [
    "# 5. Computing GC Content"
   ]
  },
  {
   "cell_type": "code",
   "execution_count": 2,
   "metadata": {},
   "outputs": [],
   "source": [
    "data = '''>Rosalind_6404\n",
    "CCTGCGGAAGATCGGCACTAGAATAGCCAGAACCGTTTCTCTGAGGCTTCCGGCCTTCCC\n",
    "TCCCACTAATAATTCTGAGG\n",
    ">Rosalind_5959\n",
    "CCATCGGTAGCGCATCCTTAGTCCAATTAAGTCCCTATCCAGGCGCTCCGCCGAAGGTCT\n",
    "ATATCCATTTGTCAGCAGACACGC\n",
    ">Rosalind_0808\n",
    "CCACCCTCGTGGTATGGCTAGGCATTCAGGAACCGGAGAACGCTTCAGACCAGCCCGGAC\n",
    "TGGGAACCTGCGGGCAGTAGGTGGAAT\n",
    "'''"
   ]
  },
  {
   "cell_type": "code",
   "execution_count": 16,
   "metadata": {},
   "outputs": [],
   "source": [
    "data = open('./data/rosalind_gc.txt').read()"
   ]
  },
  {
   "cell_type": "code",
   "execution_count": 9,
   "metadata": {},
   "outputs": [],
   "source": [
    "def parse_fasta(data):\n",
    "    data = data.split('>')[1:]\n",
    "    parsed_data = []\n",
    "    for item in data:\n",
    "        label = item.split('\\n')[0]\n",
    "        content = ''.join(item.split('\\n')[1:])\n",
    "        parsed_data.append((label, content))\n",
    "    return parsed_data\n",
    "\n",
    "def compute_gc(dna):\n",
    "    return ((dna.count('G') + dna.count('C')) / len(dna)) * 100"
   ]
  },
  {
   "cell_type": "code",
   "execution_count": 17,
   "metadata": {},
   "outputs": [
    {
     "name": "stdout",
     "output_type": "stream",
     "text": [
      "Rosalind_5604\n",
      "51.616267\n"
     ]
    }
   ],
   "source": [
    "max_gc_dna = max(parse_fasta(data), key = lambda x : compute_gc(x[1]))\n",
    "print(max_gc_dna[0])\n",
    "print(round(compute_gc(max_gc_dna[1]), 6))"
   ]
  },
  {
   "cell_type": "markdown",
   "metadata": {},
   "source": [
    "# 6. Translating RNA into Protein"
   ]
  },
  {
   "cell_type": "code",
   "execution_count": 34,
   "metadata": {},
   "outputs": [],
   "source": [
    "data = '''AUGGCCAUGGCGCCCAGAACUGAGAUCAAUAGUACCCGUAUUAACGGGUGA'''"
   ]
  },
  {
   "cell_type": "code",
   "execution_count": 46,
   "metadata": {},
   "outputs": [],
   "source": [
    "data = open('./data/rosalind_prot.txt').read().strip()"
   ]
  },
  {
   "cell_type": "code",
   "execution_count": 35,
   "metadata": {
    "scrolled": true
   },
   "outputs": [],
   "source": [
    "codon_table = dict()\n",
    "codon_table_data = '''UUU F      CUU L      AUU I      GUU V\n",
    "UUC F      CUC L      AUC I      GUC V\n",
    "UUA L      CUA L      AUA I      GUA V\n",
    "UUG L      CUG L      AUG M      GUG V\n",
    "UCU S      CCU P      ACU T      GCU A\n",
    "UCC S      CCC P      ACC T      GCC A\n",
    "UCA S      CCA P      ACA T      GCA A\n",
    "UCG S      CCG P      ACG T      GCG A\n",
    "UAU Y      CAU H      AAU N      GAU D\n",
    "UAC Y      CAC H      AAC N      GAC D\n",
    "UAA Stop      CAA Q      AAA K      GAA E\n",
    "UAG Stop      CAG Q      AAG K      GAG E\n",
    "UGU C      CGU R      AGU S      GGU G\n",
    "UGC C      CGC R      AGC S      GGC G\n",
    "UGA Stop      CGA R      AGA R      GGA G\n",
    "UGG W      CGG R      AGG R      GGG G'''\n",
    "for line in codon_table_data.splitlines():\n",
    "    for pair in line.split('      '):\n",
    "        pair = pair.split(' ')\n",
    "        codon_table[pair[0]] = pair[1]"
   ]
  },
  {
   "cell_type": "code",
   "execution_count": 48,
   "metadata": {},
   "outputs": [],
   "source": [
    "def translation(rna):\n",
    "    protein = []\n",
    "    for triple in range(0, len(rna), 3):\n",
    "        protein.append(codon_table[rna[triple:triple+3]])\n",
    "    return ''.join(protein[:-1])"
   ]
  },
  {
   "cell_type": "code",
   "execution_count": 47,
   "metadata": {},
   "outputs": [
    {
     "data": {
      "text/plain": [
       "'MHLLDRVTPHVAVMSSQLKWRSADALSTATTFHRRSVAPDLLVHTRRYDAATRTQSSPRRFGGAIMGHRLDWNRADGVSLRTDCRSPVGVWFSYGLRVLCKLLAYPARNSHSTISGRESVLDVARNSTQQVGYPLPTDIRDSIDVHTYDPSCEFFTWNKISSGKPSHSYEKPGKVRLPAVFTYAAARESWVHLRDSSPCASKAGVTLSVVGAGRKGHIIDDLQTLQQPRSRVDSSIESMIPLPGEIRIKSTTDDWGLKRCAEGGSYGMPAPRAWQSSVVLERLKLASRVNSRPAVPEFAYTRRAFELGLQGIAVTRIGSSTVGWRALSDSSKLRVLLLCTRSGATARAPCIEETARGLRLPLRGVWTCPVSSLHPLQSTLWLLVPSLLLLNDVPGKPRGGKLRSLGTTIGDEPTRRQIRILPSTTGRKWRGWSSTPIAIRALRFLVHSMLRGGFMVIDTDPRRSVLDDLGIIEAIIKLGTYSFMEQDCTAVLGRDNAQGSSVCSLVSGSRQAMECTIFISCPRKLICFSALAKFPTLSEDLRFTKSAVSTLCLRESFATTQCLASRYLVRLFRTRSLKRVNTKSEVHIRTQLTTIDSFCIRAPFIGYHLLLYAEDEYPDLPTQDSAGSYEFTLPRDSKYRGVERSRNVARGGRRNLALRVSPNLNLWTECDPILLPCVFCAHWIKSQDGCMRRWLSKYGLVLIGSLVAAPDRFERTAPTIFSGCPSPHSAKKIQSVYICRLRQHSPARASLPSGAFRLLSTYSVGNLGQVYFIGVEAYKGSSNRLAQYSGLTSAWSYLLPVLLRHKADERSRATNPGVGSRVAIAPRTINSSNLDLSSGRRAETDADVPALLLWEEAPRECRRTGTCSRRYASAADGGEVRKKRLGFHERISLTIHPRRSGKIRDSPSVVGHILRLADTYNECSTRTVCCPAANPVALGPQALREALSFATTGARPDAIQSKQTCHDRIFHPANYTLVTEKDHISRRHASRSVLKLLVSRYFRPVRTHGHAFVAYRAGMANIHPIMKKICIRPQDRLTPDLDYRGRSEWLLFPLVMKERTTVSFRCPRGSRDCLRQSIWGQNLEPDRLNILGVSDPSCILSGGLTPSGAVALNTTKCFLIPHFWIRRSPCSKVFTVVAPATRLGCSIVAYLRSCKSFHAFSRRIVSILGRTSLMAPYASLLREQSGLLRLRVEHYQLVTLLAIVLREMLQPRAPKIPTKPQGTTWLKYMNTVENTLRGDYRTSNPVQKWLTRQRGCSINAHTPPTPSFSVRKTSLARTEFSGRLKRNPTYNTGSAAIERREVLVERLRGPSPSQRNPASDPLDRVGVVNSRHDSNRRRLKDLPAYLRTLFLYWVKRRLGAVRGPGLSLPLTQCDMGGADAEQLPSISRESIIMSTLTRQFYPQEFQCSLTWTVSVRGAAQYHRTPQIDSMLHLESHPIGCCCSITFTCGVTVKLHKYRAGEGSIVSGLMYWTLYFKKEVTTKQHMSSVMSAQLVAPPLASCQPRKFRSTERSNTTSGTISTRRFVTALPPSRDQAKRKWTTALHERITTCHACTTPRGGALPGWSCHRHIAHRVLCTPGEHMTRICLYTSEEWDCAEGWSETASNLSGRVYLDIFLSDLLGSKQVAMVHTVVWYGRFIRHRPGRLYHLVAAAWEICLAFERFFQVNYSSGNPSYPGLSIHFKRVIGTRVLQTTKMLKCVGFAVVSIPLKRICPNLERVPWRFVRQVTGVRVLCLPFGTTHESLRAKKTYSIRRSTVRSKPTLGQTSSQSYYDDIFGSTHRGPLGGWNSMKFSTLRYHPLRCRHFIWIVLSSWKIAIGSSPTIPSSNSWLLSSPTERRPVSRWKLANSHDEMLKYAAGKEFCFASRTNICRVATRCTGLICTHHLYISLGYVPFRIRKYQGHLTPQEANPPNSDAARILRPCLTFSKLLNIASHVYLAHDVHQVEIIDDRPLGPKMLMATDDRHRRLLWIRPYISANSSRLHMYQSGRPLQVRLEDSEATWTARGHITLVCSNQQLNLRCYQLFNAMATPRQDDVGPWCNLISSHLYQRSTYFPLNKVPFTQGGRTAHNARFIGGRRDRPQVSVAAPSPCRTLIGVHIVNPRSSALPNCGVVTEYMSCPSPSDSIIKVAFHIEGSSSPMKWTTLRCRRVCRSIHFVPSMSFPDVISPLIRALFGELTAECFMLGKLELYSVARYRHCIDCTELGEFVSLCRPRVIYAGRAYPMRAIWIVLHPPVSISCINPFIGDGNPNSAVGKRTVACALFQVVRFFPWKYVDSYVDILSQRDSKGLVTSDPTMCRKSKYVLSQGQMTYTDSRTGGILITRHVTQALEQVNNFCMVHVRFEHKYSTRQSHIWYCTSLGQSGIIQCECRWPPFDGIWCNAASSYVAIVGRYKCSYAFAFHRKDETLPKRKLIIHAQQDLSKCPPGGLLSSIDASNLSWMFIPPKLAHVKCPRGQRMINMNTQGTARVYRIVIRDFRSNVALRVIRLRKATTSFEPLRAQCAWPTVLTVRSGSPAESLLPRKGPSSGHTSNGVTVGQVETLPMYAEITPTSKKYDQGCSPRQRDSLRPGEVDILRLSFHWATVRVQRTTKGSFEAGKRAGKTPSVRPLYSPFRSILPSFVQPYKKFPLSRQSSNIVLAGDECPRGLGPCWSLIMARRYILAGRKTKSLARKRRRYRVASQGSEGPSDPTEAHVRDVTSRMMNYHLVRPLPMSLLSTIIKSRPVVICVDGSTFSRMLGSVEPHGVALHTPKFVTTSSQIGPQRNPLKRLWTNVDCNSPPHGTQGVDNPKSRHASRSSGYICPSIDLKRNPEKLCYHKVRDATWEDTGYRFVPNFCEMERVVVNDVRSINDSPALTCAAPLKHDGVSFSLAPHGMTRNGRTDKNSSKTFARNVSPSGHSSPQVCFPIRIPVVLRSRKCLYHSRGSSYEKTNLWLASLFLGTGLRRRNRIDHFCTRPYDSHSI'"
      ]
     },
     "execution_count": 47,
     "metadata": {},
     "output_type": "execute_result"
    }
   ],
   "source": [
    "translation(data)"
   ]
  },
  {
   "cell_type": "markdown",
   "metadata": {},
   "source": [
    "# 7. Finding a Motif in DNA"
   ]
  },
  {
   "cell_type": "code",
   "execution_count": 1,
   "metadata": {},
   "outputs": [],
   "source": [
    "data = '''GATATATGCATATACTT\n",
    "ATAT'''"
   ]
  },
  {
   "cell_type": "code",
   "execution_count": 26,
   "metadata": {},
   "outputs": [],
   "source": [
    "data = open('./data/rosalind_subs.txt').read()"
   ]
  },
  {
   "cell_type": "code",
   "execution_count": 21,
   "metadata": {},
   "outputs": [],
   "source": [
    "def parse_input(data):\n",
    "    dna_string_s, dna_string_t = data.splitlines()\n",
    "    return dna_string_s, dna_string_t\n",
    "\n",
    "def find_motif(source_dna, to_find_dna):\n",
    "    found_locations = []\n",
    "    for index in range(len(source_dna) - len(to_find_dna)):\n",
    "        if source_dna[index: index + len(to_find_dna)] == to_find_dna:\n",
    "            found_locations.append(index+1)\n",
    "    return found_locations"
   ]
  },
  {
   "cell_type": "code",
   "execution_count": 27,
   "metadata": {},
   "outputs": [
    {
     "name": "stdout",
     "output_type": "stream",
     "text": [
      "38 53 81 124 251 258 265 287 361 368 412 427 434 450 516 523 547 600 626 661 778 806 813 846 862 869 887 894\n"
     ]
    }
   ],
   "source": [
    "source_dna, to_find_dna = parse_input(data)\n",
    "print(' '.join([str(loc) for loc in find_motif(source_dna, to_find_dna)]))"
   ]
  },
  {
   "cell_type": "markdown",
   "metadata": {},
   "source": [
    "# 8. Counting Point Mutations"
   ]
  },
  {
   "cell_type": "code",
   "execution_count": 29,
   "metadata": {},
   "outputs": [],
   "source": [
    "data = '''GAGCCTACTAACGGGAT\n",
    "CATCGTAATGACGGCCT'''"
   ]
  },
  {
   "cell_type": "code",
   "execution_count": 34,
   "metadata": {},
   "outputs": [],
   "source": [
    "data = open('./data/rosalind_hamm.txt').read()"
   ]
  },
  {
   "cell_type": "code",
   "execution_count": 32,
   "metadata": {},
   "outputs": [],
   "source": [
    "def parse_input(data):\n",
    "    return data.splitlines()\n",
    "\n",
    "def calc_hamming_distance(s1, s2):\n",
    "    dist = 0\n",
    "    for pair in zip(s1, s2):\n",
    "        if pair[0] != pair[1]:\n",
    "            dist += 1\n",
    "    return dist"
   ]
  },
  {
   "cell_type": "code",
   "execution_count": 35,
   "metadata": {},
   "outputs": [
    {
     "data": {
      "text/plain": [
       "470"
      ]
     },
     "execution_count": 35,
     "metadata": {},
     "output_type": "execute_result"
    }
   ],
   "source": [
    "s1, s2 = parse_input(data)\n",
    "calc_hamming_distance(s1, s2)"
   ]
  },
  {
   "cell_type": "markdown",
   "metadata": {},
   "source": [
    "# 9. Rabbits and Recurrence Relations"
   ]
  },
  {
   "cell_type": "code",
   "execution_count": 65,
   "metadata": {},
   "outputs": [],
   "source": [
    "data = '''5 3'''"
   ]
  },
  {
   "cell_type": "code",
   "execution_count": 62,
   "metadata": {},
   "outputs": [],
   "source": [
    "data = open('./data/rosalind_fib.txt').read()"
   ]
  },
  {
   "cell_type": "code",
   "execution_count": 60,
   "metadata": {},
   "outputs": [],
   "source": [
    "def parse_input(data):\n",
    "    return [int(d) for d in data.split(' ')]\n",
    "\n",
    "def count_relations(n , k):\n",
    "    if n == 1:\n",
    "        return k\n",
    "    else:\n",
    "        return k + 1 + count_relations(n-1, k)"
   ]
  },
  {
   "cell_type": "code",
   "execution_count": 66,
   "metadata": {},
   "outputs": [
    {
     "data": {
      "text/plain": [
       "19"
      ]
     },
     "execution_count": 66,
     "metadata": {},
     "output_type": "execute_result"
    }
   ],
   "source": [
    "n, k = parse_input(data)\n",
    "count_relations(n, k)"
   ]
  },
  {
   "cell_type": "code",
   "execution_count": null,
   "metadata": {},
   "outputs": [],
   "source": []
  }
 ],
 "metadata": {
  "kernelspec": {
   "display_name": "Python 3",
   "language": "python",
   "name": "python3"
  },
  "language_info": {
   "codemirror_mode": {
    "name": "ipython",
    "version": 3
   },
   "file_extension": ".py",
   "mimetype": "text/x-python",
   "name": "python",
   "nbconvert_exporter": "python",
   "pygments_lexer": "ipython3",
   "version": "3.7.3"
  }
 },
 "nbformat": 4,
 "nbformat_minor": 2
}
